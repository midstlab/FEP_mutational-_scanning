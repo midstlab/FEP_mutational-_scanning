{
 "cells": [
  {
   "cell_type": "code",
   "execution_count": 1,
   "id": "f301cb09-45e9-4501-a9bd-3c7eeadba1fa",
   "metadata": {
    "tags": []
   },
   "outputs": [],
   "source": [
    "from prody import *\n",
    "from pylab import *\n",
    "import numpy as np\n",
    "from os.path import basename\n",
    "import fnmatch\n",
    "import os\n",
    "import re\n",
    "import itertools\n",
    "import shutil"
   ]
  },
  {
   "cell_type": "markdown",
   "id": "cf0b3c48",
   "metadata": {},
   "source": [
    "### Positive to negative annihilate two chloride ions"
   ]
  },
  {
   "cell_type": "code",
   "execution_count": 2,
   "id": "4607bced-4eab-44e9-81c5-53cdd8881784",
   "metadata": {},
   "outputs": [],
   "source": [
    "wt_aa = \"ARG\"\n",
    "position_aa = 70\n",
    "neg_char_aa = [\"GLU\"]\n",
    "pos_char_aa = [\"ARG\"]\n",
    "neu_char_aa = [\"ALA\",\"ASN\",\"CYS\",\"GLN\",\"HSD\",\"ILE\",\"LEU\",\"LYS\",\"MET\",\"PHE\",\"SER\",\"THR\",\"TRP\",\"TYR\",\"VAL\"]\n",
    "#mutation_list = [\"ALA\",\"ARG\",\"ASN\",\"ASP\",\"CYS\",\"GLU\",\"GLN\",\"GLY\",\"HIS\",\"ILE\", \"LEU\",\"LYS\",\"MET\",\"PHE\",\"PRO\",\"SER\",\"THR\",\"TRP\",\"TYR\",\"VAL\"]"
   ]
  },
  {
   "cell_type": "code",
   "execution_count": 3,
   "id": "a104878e-eb59-4d65-b433-0b7c8f30dfe0",
   "metadata": {},
   "outputs": [
    {
     "name": "stderr",
     "output_type": "stream",
     "text": [
      "@> 2495 atoms and 1 coordinate set(s) were parsed in 0.04s.\n"
     ]
    },
    {
     "name": "stdout",
     "output_type": "stream",
     "text": [
      "wt_ap_100_chainA_ARG_33_ASP_fep.fep\n"
     ]
    },
    {
     "name": "stderr",
     "output_type": "stream",
     "text": [
      "@> 23083 atoms and 1 coordinate set(s) were parsed in 0.38s.\n"
     ]
    },
    {
     "name": "stdout",
     "output_type": "stream",
     "text": [
      "AtomGroup wt_ap_100_chainA_ARG_33_ASP_fep\n",
      "Selection 'chain P and resnum 33'\n",
      "[35, 45]\n",
      "35 45\n"
     ]
    },
    {
     "name": "stderr",
     "output_type": "stream",
     "text": [
      "@> 2498 atoms and 1 coordinate set(s) were parsed in 0.04s.\n"
     ]
    },
    {
     "name": "stdout",
     "output_type": "stream",
     "text": [
      "wt_ap_100_chainA_ARG_33_GLU_fep.fep\n"
     ]
    },
    {
     "name": "stderr",
     "output_type": "stream",
     "text": [
      "@> 23086 atoms and 1 coordinate set(s) were parsed in 0.38s.\n"
     ]
    },
    {
     "name": "stdout",
     "output_type": "stream",
     "text": [
      "AtomGroup wt_ap_100_chainA_ARG_33_GLU_fep\n",
      "Selection 'chain P and resnum 33'\n",
      "[35, 37]\n",
      "35 37\n"
     ]
    }
   ],
   "source": [
    "file_pattern = re.compile(\"wt_ap_100_chainA_\"+wt_aa+\"_\"+str(position_aa)+\"_(\"+\"|\".join(neg_char_aa)+\")_fep.fep$\")\n",
    "for file in os.listdir('.'):\n",
    "    if re.search(file_pattern, file):\n",
    "        pdb = file\n",
    "        print(file)\n",
    "        file_name_wh_ex_ = str(os.path.splitext(pdb)[0])\n",
    "        #os.rename(str(file_name_wh_ex_+\".fep\"), str(file_name_wh_ex_+\".pdb\"))\n",
    "        shutil.copyfile(str(file_name_wh_ex_+\".fep\"), str(file_name_wh_ex_+\".pdb\"))\n",
    "        file_name_wh_ex = str(os.path.splitext(pdb)[0]).replace(\"_chainA\",\"\")\n",
    "        resid = pdb.split('_')[5]\n",
    "        structure_1 = parsePDB(str(file_name_wh_ex_+\".pdb\"))\n",
    "        structure_2 = parsePDB(str(file_name_wh_ex+\"_wb_ionized.pdb\"))\n",
    "        print(structure_1)\n",
    "        betas = structure_1.select(\"chain P and resnum \"+str(resid))\n",
    "        print(betas)\n",
    "        betas = betas.getBetas()\n",
    "        selection_str_2 = structure_2.select(\"chain P and resnum \"+str(resid))\n",
    "        selection_str_2_betas = selection_str_2.setBetas(betas)\n",
    "        ions = structure_2.select(\"resname CLA\")\n",
    "        ion_resnums = ions.getResnums()\n",
    "        ions_anni = []\n",
    "        for at in itertools.combinations(range(len(ions)), 2):\n",
    "            coor_ion1 = ions[at[0]].getCoords()\n",
    "            coor_ion2 = ions[at[1]].getCoords()\n",
    "            mut_site = structure_2.select(\"resnum \"+str(resid)+\" and name CA\").getCoords()\n",
    "            distum_1 = calcDistance(coor_ion1, coor_ion2)\n",
    "            distum_2 = calcDistance(coor_ion1, mut_site)\n",
    "            distum_3 = calcDistance(coor_ion2, mut_site)\n",
    "            if (20 < distum_1 < 35) and (20 < distum_2 < 35) and (20 < distum_3 < 35):\n",
    "                ions_anni.extend([ion_resnums[at[0]], ion_resnums[at[1]]])\n",
    "                print(ions_anni)\n",
    "                break\n",
    "        ion_sele = str(' '.join(map(str,ions_anni)))\n",
    "        print(ion_sele)\n",
    "        selection_str_3 = structure_2.select(\"resname CLA and resnum \"+ion_sele)\n",
    "        selection_str_3_betas = selection_str_3.setBetas(-1)\n",
    "        \n",
    "        writePDB(str(file_name_wh_ex+\"_wb_ionized.fep\"), structure_2, autoext=False)\n",
    "        os.rename(str(file_name_wh_ex+\"_wb_ionized.fep.pdb\"), str(file_name_wh_ex+\"_wb_ionized.fep\"))"
   ]
  },
  {
   "cell_type": "code",
   "execution_count": 4,
   "id": "4354f61a-534c-428d-ae5f-23bb97e09b67",
   "metadata": {},
   "outputs": [],
   "source": [
    "structure_1.select(\"protein and resnum 70\")"
   ]
  },
  {
   "cell_type": "code",
   "execution_count": 5,
   "id": "d28389be-a083-439c-bd2e-c4201af00229",
   "metadata": {},
   "outputs": [
    {
     "data": {
      "text/plain": [
       "<Selection: 'resnum 33' from wt_ap_100_chainA_ARG_33_GLU_fep (33 atoms)>"
      ]
     },
     "execution_count": 5,
     "metadata": {},
     "output_type": "execute_result"
    }
   ],
   "source": [
    "structure_1.select(\"resnum 70\")"
   ]
  },
  {
   "cell_type": "code",
   "execution_count": 6,
   "id": "dadf8c31-ce82-4d4e-be56-422927f7af9c",
   "metadata": {},
   "outputs": [
    {
     "name": "stdout",
     "output_type": "stream",
     "text": [
      "protein and resnum 33\n"
     ]
    }
   ],
   "source": [
    "print(\"protein and resnum \"+str(resid))"
   ]
  },
  {
   "cell_type": "markdown",
   "id": "82f1b33f",
   "metadata": {},
   "source": [
    "### Positive to neutral, annihilate one chloride ion"
   ]
  },
  {
   "cell_type": "code",
   "execution_count": 7,
   "id": "bb9226d5",
   "metadata": {},
   "outputs": [
    {
     "name": "stderr",
     "output_type": "stream",
     "text": [
      "@> 2504 atoms and 1 coordinate set(s) were parsed in 0.04s.\n"
     ]
    },
    {
     "name": "stdout",
     "output_type": "stream",
     "text": [
      "wt_ap_100_chainA_ARG_33_TYR_fep.fep\n"
     ]
    },
    {
     "name": "stderr",
     "output_type": "stream",
     "text": [
      "@> 23094 atoms and 1 coordinate set(s) were parsed in 0.40s.\n",
      "@> 2500 atoms and 1 coordinate set(s) were parsed in 0.04s.\n"
     ]
    },
    {
     "name": "stdout",
     "output_type": "stream",
     "text": [
      "wt_ap_100_chainA_ARG_33_HSD_fep.fep\n"
     ]
    },
    {
     "name": "stderr",
     "output_type": "stream",
     "text": [
      "@> 23090 atoms and 1 coordinate set(s) were parsed in 0.37s.\n",
      "@> 2494 atoms and 1 coordinate set(s) were parsed in 0.04s.\n"
     ]
    },
    {
     "name": "stdout",
     "output_type": "stream",
     "text": [
      "wt_ap_100_chainA_ARG_33_CYS_fep.fep\n"
     ]
    },
    {
     "name": "stderr",
     "output_type": "stream",
     "text": [
      "@> 23084 atoms and 1 coordinate set(s) were parsed in 0.36s.\n",
      "@> 2500 atoms and 1 coordinate set(s) were parsed in 0.04s.\n"
     ]
    },
    {
     "name": "stdout",
     "output_type": "stream",
     "text": [
      "wt_ap_100_chainA_ARG_33_GLN_fep.fep\n"
     ]
    },
    {
     "name": "stderr",
     "output_type": "stream",
     "text": [
      "@> 23090 atoms and 1 coordinate set(s) were parsed in 0.40s.\n",
      "@> 2503 atoms and 1 coordinate set(s) were parsed in 0.04s.\n"
     ]
    },
    {
     "name": "stdout",
     "output_type": "stream",
     "text": [
      "wt_ap_100_chainA_ARG_33_PHE_fep.fep\n"
     ]
    },
    {
     "name": "stderr",
     "output_type": "stream",
     "text": [
      "@> 23093 atoms and 1 coordinate set(s) were parsed in 0.36s.\n",
      "@> 2499 atoms and 1 coordinate set(s) were parsed in 0.04s.\n"
     ]
    },
    {
     "name": "stdout",
     "output_type": "stream",
     "text": [
      "wt_ap_100_chainA_ARG_33_VAL_fep.fep\n"
     ]
    },
    {
     "name": "stderr",
     "output_type": "stream",
     "text": [
      "@> 23086 atoms and 1 coordinate set(s) were parsed in 0.37s.\n",
      "@> 2500 atoms and 1 coordinate set(s) were parsed in 0.04s.\n"
     ]
    },
    {
     "name": "stdout",
     "output_type": "stream",
     "text": [
      "wt_ap_100_chainA_ARG_33_MET_fep.fep\n"
     ]
    },
    {
     "name": "stderr",
     "output_type": "stream",
     "text": [
      "@> 23090 atoms and 1 coordinate set(s) were parsed in 0.38s.\n",
      "@> 2497 atoms and 1 coordinate set(s) were parsed in 0.04s.\n"
     ]
    },
    {
     "name": "stdout",
     "output_type": "stream",
     "text": [
      "wt_ap_100_chainA_ARG_33_ASN_fep.fep\n"
     ]
    },
    {
     "name": "stderr",
     "output_type": "stream",
     "text": [
      "@> 23087 atoms and 1 coordinate set(s) were parsed in 0.38s.\n",
      "@> 2502 atoms and 1 coordinate set(s) were parsed in 0.04s.\n"
     ]
    },
    {
     "name": "stdout",
     "output_type": "stream",
     "text": [
      "wt_ap_100_chainA_ARG_33_ILE_fep.fep\n"
     ]
    },
    {
     "name": "stderr",
     "output_type": "stream",
     "text": [
      "@> 23092 atoms and 1 coordinate set(s) were parsed in 0.36s.\n",
      "@> 2493 atoms and 1 coordinate set(s) were parsed in 0.04s.\n"
     ]
    },
    {
     "name": "stdout",
     "output_type": "stream",
     "text": [
      "wt_ap_100_chainA_ARG_33_ALA_fep.fep\n"
     ]
    },
    {
     "name": "stderr",
     "output_type": "stream",
     "text": [
      "@> 23083 atoms and 1 coordinate set(s) were parsed in 0.36s.\n",
      "@> 2497 atoms and 1 coordinate set(s) were parsed in 0.04s.\n"
     ]
    },
    {
     "name": "stdout",
     "output_type": "stream",
     "text": [
      "wt_ap_100_chainA_ARG_33_THR_fep.fep\n"
     ]
    },
    {
     "name": "stderr",
     "output_type": "stream",
     "text": [
      "@> 23087 atoms and 1 coordinate set(s) were parsed in 0.35s.\n",
      "@> 2494 atoms and 1 coordinate set(s) were parsed in 0.04s.\n"
     ]
    },
    {
     "name": "stdout",
     "output_type": "stream",
     "text": [
      "wt_ap_100_chainA_ARG_33_SER_fep.fep\n"
     ]
    },
    {
     "name": "stderr",
     "output_type": "stream",
     "text": [
      "@> 23084 atoms and 1 coordinate set(s) were parsed in 0.36s.\n",
      "@> 2507 atoms and 1 coordinate set(s) were parsed in 0.04s.\n"
     ]
    },
    {
     "name": "stdout",
     "output_type": "stream",
     "text": [
      "wt_ap_100_chainA_ARG_33_TRP_fep.fep\n"
     ]
    },
    {
     "name": "stderr",
     "output_type": "stream",
     "text": [
      "@> 23085 atoms and 1 coordinate set(s) were parsed in 0.36s.\n",
      "@> 2502 atoms and 1 coordinate set(s) were parsed in 0.04s.\n"
     ]
    },
    {
     "name": "stdout",
     "output_type": "stream",
     "text": [
      "wt_ap_100_chainA_ARG_33_LEU_fep.fep\n"
     ]
    },
    {
     "name": "stderr",
     "output_type": "stream",
     "text": [
      "@> 23092 atoms and 1 coordinate set(s) were parsed in 0.36s.\n"
     ]
    }
   ],
   "source": [
    "file_pattern = re.compile(\"wt_ap_100_chainA_\"+wt_aa+\"_\"+str(position_aa)+\"_(\"+\"|\".join(neu_char_aa)+\")_fep.fep$\")\n",
    "for file in os.listdir('.'):\n",
    "    if re.search(file_pattern, file):\n",
    "        pdb = file\n",
    "        print(file)\n",
    "        file_name_wh_ex_ = str(os.path.splitext(pdb)[0])\n",
    "        #os.rename(str(file_name_wh_ex_+\".fep\"), str(file_name_wh_ex_+\".pdb\"))\n",
    "        shutil.copyfile(str(file_name_wh_ex_+\".fep\"), str(file_name_wh_ex_+\".pdb\"))\n",
    "        file_name_wh_ex = str(os.path.splitext(pdb)[0]).replace(\"_chainA\",\"\")\n",
    "        resid = pdb.split('_')[5]\n",
    "        structure_1 = parsePDB(str(file_name_wh_ex_+\".pdb\"))\n",
    "        structure_2 = parsePDB(str(file_name_wh_ex+\"_wb_ionized.pdb\"))\n",
    "        betas = structure_1.select(\"chain P and resnum \"+str(resid))\n",
    "        betas = betas.getBetas()\n",
    "        selection_str_2 = structure_2.select(\"chain P and resnum \"+str(resid))\n",
    "        selection_str_2_betas = selection_str_2.setBetas(betas)\n",
    "        ions = structure_2.select(\"resname CLA\")\n",
    "        ion_resnums = ions.getResnums()\n",
    "        for at in range(len(ions)):\n",
    "            coor_ion1 = ions[at].getCoords()\n",
    "            mut_site = structure_2.select(\"resnum \"+str(resid)+\" and name CA\").getCoords()\n",
    "            distum_1 = calcDistance(coor_ion1, mut_site)\n",
    "            if 20 < distum_1 < 35:\n",
    "                ions_anni = ion_resnums[at]\n",
    "                break\n",
    "        selection_str_3 = structure_2.select(\"resname CLA and resnum \"+str(ions_anni))\n",
    "        selection_str_3_betas = selection_str_3.setBetas(-1)\n",
    "        \n",
    "        writePDB(str(file_name_wh_ex+\"_wb_ionized.fep\"), structure_2, autoext=False)\n",
    "        os.rename(str(file_name_wh_ex+\"_wb_ionized.fep.pdb\"), str(file_name_wh_ex+\"_wb_ionized.fep\"))"
   ]
  },
  {
   "cell_type": "markdown",
   "id": "f1e20666",
   "metadata": {},
   "source": [
    "### Positive to positive, no ion annihilation"
   ]
  },
  {
   "cell_type": "code",
   "execution_count": 8,
   "id": "25573a4a",
   "metadata": {},
   "outputs": [],
   "source": [
    "file_pattern = re.compile(\"wt_ap_100_chainA_\"+wt_aa+\"_\"+str(position_aa)+\"_(\"+\"|\".join(pos_char_aa)+\")_fep.fep$\")\n",
    "for file in os.listdir('.'):\n",
    "    if re.search(file_pattern, file):\n",
    "        pdb = file\n",
    "        print(file)\n",
    "        file_name_wh_ex_ = str(os.path.splitext(pdb)[0])\n",
    "        #os.rename(str(file_name_wh_ex_+\".fep\"), str(file_name_wh_ex_+\".pdb\"))\n",
    "        shutil.copyfile(str(file_name_wh_ex_+\".fep\"), str(file_name_wh_ex_+\".pdb\"))\n",
    "        file_name_wh_ex = str(os.path.splitext(pdb)[0]).replace(\"_chainA\",\"\")\n",
    "        resid = pdb.split('_')[5]\n",
    "        structure_1 = parsePDB(str(file_name_wh_ex_+\".pdb\"))\n",
    "        structure_2 = parsePDB(str(file_name_wh_ex+\"_wb_ionized.pdb\"))\n",
    "        betas = structure_1.select(\"chain P and resnum \"+str(resid))\n",
    "        betas = betas.getBetas()\n",
    "        selection_str_2 = structure_2.select(\"chain P and resnum \"+str(resid))\n",
    "        selection_str_2_betas = selection_str_2.setBetas(betas)\n",
    "        writePDB(str(file_name_wh_ex+\"_wb_ionized.fep\"), structure_2, autoext=False)\n",
    "        os.rename(str(file_name_wh_ex+\"_wb_ionized.fep.pdb\"), str(file_name_wh_ex+\"_wb_ionized.fep\"))"
   ]
  },
  {
   "cell_type": "code",
   "execution_count": null,
   "id": "3d72ed03-c8c9-499e-a390-8129d764be94",
   "metadata": {},
   "outputs": [],
   "source": []
  }
 ],
 "metadata": {
  "kernelspec": {
   "display_name": "Python 3 (ipykernel)",
   "language": "python",
   "name": "python3"
  },
  "language_info": {
   "codemirror_mode": {
    "name": "ipython",
    "version": 3
   },
   "file_extension": ".py",
   "mimetype": "text/x-python",
   "name": "python",
   "nbconvert_exporter": "python",
   "pygments_lexer": "ipython3",
   "version": "3.11.4"
  }
 },
 "nbformat": 4,
 "nbformat_minor": 5
}
